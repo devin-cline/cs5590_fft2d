{
 "cells": [
  {
   "cell_type": "markdown",
   "metadata": {
    "id": "diYwXYeHEMEV"
   },
   "source": [
    "***\n",
    "*Course:* Math 5545/CS 5590 - Mathematical Methods in Data Science (MMDS)  \n",
    "***\n",
    "\n",
    "\n",
    "## Coding Homework 3: The Fourier Transform and Filtering in the Frequency Domain\n",
    "\n",
    "All problems can be solved using the FFT 2d related functions in `fft` package from `numpy`. All the codes to answer the questions in this homework can be found in the FFT2d lecture notebook on Canvas."
   ]
  },
  {
   "cell_type": "code",
   "execution_count": 1,
   "metadata": {
    "id": "XdVoMwrCEG5v"
   },
   "outputs": [],
   "source": [
    "import numpy as np\n",
    "import matplotlib.pyplot as plt\n",
    "import skimage\n",
    "from skimage import data\n",
    "from skimage.transform import resize\n",
    "from skimage.color import rgb2gray\n",
    "import cv2\n",
    "import time\n",
    "import numpy.fft as fft"
   ]
  },
  {
   "cell_type": "code",
   "execution_count": null,
   "metadata": {
    "id": "mVBJ2_WvFhON"
   },
   "outputs": [],
   "source": [
    "# Read and display sample image for problem 1\n",
    "img = 255 * resize(data.brick(),(128,128))\n",
    "# resize the image to a smaller size to reduce the computational time\n",
    "plt.imshow(img, cmap='gray', vmin=0, vmax=255)\n",
    "plt.show()"
   ]
  },
  {
   "cell_type": "markdown",
   "metadata": {
    "id": "tuozQoLgF5DF"
   },
   "source": [
    "### Problem 1\n",
    "\n",
    "Use the `numpy` function `fft.fft2`, `fft.fftshift`, `fft.ifftshift`, `fft.ifft2`, `np.linalg.norm` to complete the following tasks.\n",
    "\n",
    "(Verifying the Parseval identity) compute the $L^2$ norm of the sample `img` above and compare with the $L^2$ norm of its discrete Fourier Transform $F(u,v)$. When using the correct normalization, read [the manual of `fft.fft2`](https://numpy.org/doc/stable/reference/generated/numpy.fft.fft2.html), they should equal. (Expected output: both are $14515.029888260298$)"
   ]
  },
  {
   "cell_type": "code",
   "execution_count": null,
   "metadata": {
    "id": "qENekhcvFmhM"
   },
   "outputs": [],
   "source": [
    "# your code for\n",
    "norm_spatial = np.empty([]) # replace None with the code to compute the norm for img\n",
    "norm_fourier = np.empty([]) # norm in the Fourier space\n",
    "print(f\"{norm_spatial:.5f}\") # 14515.02989\n",
    "print(np.allclose(norm_spatial, norm_fourier)) # expected output is True"
   ]
  },
  {
   "cell_type": "markdown",
   "metadata": {
    "id": "1oAGpFOuIVgV"
   },
   "source": [
    "### Problem 2: Verifying the convolution theorem\n",
    "\n",
    "The objective of this problem is to show that filtering of an image by convolving it with a kernel\n",
    "can be done in both spatial domain and frequency domain.\n",
    "\n",
    "The output image is $g(x,y)$: for $(x,y)$ denotes the location of a pixel in an image\n",
    "\n",
    "$$\n",
    "g(x,y) = (h*f)(x,y) = \\mathcal{F}^{-1}\\{H(u,v)F(u,v)\\}\n",
    "$$\n",
    "\n",
    "where $h(x,y)$ is a filter kernel in space, and $H(u,v)$ is its Fourier transform. $f(x,y)$ is the input image and $F(u,v)$ is its Fourier transform.\n",
    "\n",
    "Complete the following function `filter_in_frequency_domain` that applies a filter to an image in the frequency domain. The function inputs are a grayscale image and a kernel, and the function output is the filtered image corresponding to the input image. You need to replace `None` with the code used in the lecture notebook. The kernel is the following matrix:\n",
    "\n",
    "$$\n",
    "h(x,y) = \\begin{pmatrix} 0& -1 & 0\\\\\n",
    "-1 & 4 & -1 \\\\ 0 & -1 & 0 \\end{pmatrix}\n",
    "$$\n",
    "\n",
    "which is implemented as\n",
    "\n",
    "> `h = np.array([[0, -1, 0], [-1, 4, -1], [0, -1, 0]])`\n",
    "\n",
    "Then plot the filtered image using the code below. Note this is called the Laplacian filter to extract the edges."
   ]
  },
  {
   "cell_type": "code",
   "execution_count": null,
   "metadata": {
    "id": "dfCKRVifHFqg"
   },
   "outputs": [],
   "source": [
    "# Read and display the image\n",
    "img = data.camera()\n",
    "plt.imshow(img, cmap='gray', vmin=0, vmax=255)\n",
    "plt.show()"
   ]
  },
  {
   "cell_type": "code",
   "execution_count": null,
   "metadata": {
    "id": "TkTN8dWILovu"
   },
   "outputs": [],
   "source": [
    "def filter_in_frequency_domain(img, kernel):\n",
    "  # compute the Fourier transform of the image\n",
    "  F = None\n",
    "  # compute the Fourier transform of the kernel\n",
    "  H = fft.fft2(kernel, s=img.shape)\n",
    "  # shift the Fourier transform of the image and the kernel\n",
    "  Fs = None\n",
    "  Hs = None\n",
    "  # multiply the Fourier transform of the image and the kernel\n",
    "  G_shifted = None\n",
    "  # shift the Fourier transform of the product back\n",
    "  G = None\n",
    "  # compute the inverse Fourier transform of the product\n",
    "  g = fft.ifft2(G)\n",
    "  # return the real part of the inverse Fourier transform\n",
    "  return np.real(g)"
   ]
  },
  {
   "cell_type": "code",
   "execution_count": null,
   "metadata": {
    "id": "ep2D4_YsMOaB"
   },
   "outputs": [],
   "source": [
    "h = None # replace h with the filter in space\n",
    "g = filter_in_frequency_domain(img, h)"
   ]
  },
  {
   "cell_type": "code",
   "execution_count": null,
   "metadata": {
    "id": "GKw0GH1EMS56"
   },
   "outputs": [],
   "source": [
    "plt.imshow(g, cmap='gray')\n",
    "plt.show()\n",
    "g_compare = skimage.filters.laplace(img, ksize=3, mask=None)\n",
    "plt.imshow(g_compare, cmap='gray')\n",
    "plt.show()\n",
    "# expected result: two images should be similar"
   ]
  }
 ],
 "metadata": {
  "colab": {
   "provenance": []
  },
  "kernelspec": {
   "display_name": "fft2d_ker",
   "language": "python",
   "name": "fft2d_ker"
  },
  "language_info": {
   "codemirror_mode": {
    "name": "ipython",
    "version": 3
   },
   "file_extension": ".py",
   "mimetype": "text/x-python",
   "name": "python",
   "nbconvert_exporter": "python",
   "pygments_lexer": "ipython3",
   "version": "3.12.1"
  }
 },
 "nbformat": 4,
 "nbformat_minor": 4
}
